{
 "cells": [
  {
   "cell_type": "code",
   "execution_count": 4,
   "id": "7552ae38-6c91-4975-9fde-63acd5bd09ea",
   "metadata": {},
   "outputs": [
    {
     "name": "stdout",
     "output_type": "stream",
     "text": [
      "Requirement already satisfied: faker in c:\\users\\eisha fatima\\appdata\\local\\programs\\python\\python313\\lib\\site-packages (37.3.0)\n",
      "Requirement already satisfied: pandas in c:\\users\\eisha fatima\\appdata\\local\\programs\\python\\python313\\lib\\site-packages (2.2.3)\n",
      "Requirement already satisfied: tzdata in c:\\users\\eisha fatima\\appdata\\local\\programs\\python\\python313\\lib\\site-packages (from faker) (2025.2)\n",
      "Requirement already satisfied: numpy>=1.26.0 in c:\\users\\eisha fatima\\appdata\\local\\programs\\python\\python313\\lib\\site-packages (from pandas) (2.2.6)\n",
      "Requirement already satisfied: python-dateutil>=2.8.2 in c:\\users\\eisha fatima\\appdata\\local\\programs\\python\\python313\\lib\\site-packages (from pandas) (2.9.0.post0)\n",
      "Requirement already satisfied: pytz>=2020.1 in c:\\users\\eisha fatima\\appdata\\local\\programs\\python\\python313\\lib\\site-packages (from pandas) (2025.2)\n",
      "Requirement already satisfied: six>=1.5 in c:\\users\\eisha fatima\\appdata\\local\\programs\\python\\python313\\lib\\site-packages (from python-dateutil>=2.8.2->pandas) (1.17.0)\n"
     ]
    },
    {
     "name": "stderr",
     "output_type": "stream",
     "text": [
      "\n",
      "[notice] A new release of pip is available: 25.0.1 -> 25.1.1\n",
      "[notice] To update, run: python.exe -m pip install --upgrade pip\n"
     ]
    }
   ],
   "source": [
    "!pip install faker pandas"
   ]
  },
  {
   "cell_type": "code",
   "execution_count": 36,
   "id": "38eaf209-995e-425d-a1ae-540af13ea3e0",
   "metadata": {},
   "outputs": [],
   "source": [
    "import csv\n",
    "import pandas as pd\n",
    "from faker import Faker\n",
    "import random\n",
    "import numpy as np\n",
    "#import uuid"
   ]
  },
  {
   "cell_type": "code",
   "execution_count": 40,
   "id": "fa9ee96b-6970-4c9e-9c77-30de16be2dac",
   "metadata": {},
   "outputs": [],
   "source": [
    "fake = Faker()\n",
    "Faker.seed(42)\n",
    "\n",
    "# Parameters\n",
    "NUM_STUDENTS = 100\n",
    "NUM_COURSES = 10\n",
    "NUM_ASSIGNMENTS = 50\n",
    "NUM_SUBMISSIONS = 500\n",
    "NUM_ENROLLMENTS = 300  # To simulate many-to-many student-course relationships\n",
    "\n",
    "# 1. Students\n",
    "students = [{\n",
    "    \"StudentID\": f\"S{1000 + i}\",\n",
    "    \"Name\": fake.name(),\n",
    "    \"Email\": fake.email(),\n",
    "    \"EnrollmentDate\": fake.date_between(start_date='-2y', end_date='today').isoformat()\n",
    "} for i in range(NUM_STUDENTS)]\n",
    "\n",
    "# 2. Courses\n",
    "courses = [{\n",
    "    \"CourseID\": f\"C{100 + i}\",\n",
    "    \"CourseName\": fake.catch_phrase(),\n",
    "    \"Instructor\": fake.name(),\n",
    "    \"Semester\": random.choice([\"Fall 2024\", \"Spring 2025\", \"Summer 2025\"])\n",
    "} for i in range(NUM_COURSES)]\n",
    "\n",
    "# 3. Assignments\n",
    "assignments = [{\n",
    "    \"AssignmentID\": f\"A{100 + i}\",\n",
    "    \"CourseID\": random.choice(courses)[\"CourseID\"],\n",
    "    \"Title\": fake.sentence(nb_words=4),\n",
    "    \"DueDate\": fake.date_between(start_date='-3m', end_date='+3m').isoformat()\n",
    "} for i in range(NUM_ASSIGNMENTS)]\n",
    "\n",
    "# 4. Enrollments\n",
    "enrollments = []\n",
    "enrollment_pairs = set()\n",
    "while len(enrollments) < NUM_ENROLLMENTS:\n",
    "    student = random.choice(students)\n",
    "    course = random.choice(courses)\n",
    "    key = (student[\"StudentID\"], course[\"CourseID\"])\n",
    "    if key not in enrollment_pairs:\n",
    "        enrollment_pairs.add(key)\n",
    "        enrollments.append({\n",
    "            \"EnrollmentID\": f\"E{1000 + len(enrollments)}\",\n",
    "            \"StudentID\": student[\"StudentID\"],\n",
    "            \"CourseID\": course[\"CourseID\"]\n",
    "        })\n",
    "\n",
    "# 5. Submissions\n",
    "submissions = [{\n",
    "    \"SubmissionID\": f\"SUB{1000 + i}\",\n",
    "    \"AssignmentID\": random.choice(assignments)[\"AssignmentID\"],\n",
    "    \"StudentID\": random.choice(students)[\"StudentID\"],\n",
    "    \"SubmissionDate\": fake.date_between(start_date='-2m', end_date='today').isoformat(),\n",
    "    \"Grade\": random.choice([None] + [round(random.uniform(60, 100), 2) for _ in range(5)])\n",
    "} for i in range(NUM_SUBMISSIONS)]\n"
   ]
  },
  {
   "cell_type": "code",
   "execution_count": 41,
   "id": "56cdf73f-1264-4f4f-854f-f04b6763c586",
   "metadata": {},
   "outputs": [],
   "source": [
    "# Dirty students data\n",
    "for student in students:\n",
    "    if random.random() < 0.05:\n",
    "        student[\"Email\"] = None  # Missing email\n",
    "    if random.random() < 0.05:\n",
    "        student[\"Name\"] = student[\"Name\"].strip().title() + \" \"  # Extra space\n",
    "    if random.random() < 0.03:\n",
    "        student[\"EnrollmentDate\"] = \"\"  # Empty date string\n",
    "\n",
    "# Dirty courses data\n",
    "for course in courses:\n",
    "    if random.random() < 0.05:\n",
    "        course[\"Instructor\"] = fake.name().lower()  # lowercase name\n",
    "    if random.random() < 0.03:\n",
    "        course[\"Semester\"] = random.choice([\"Fall2024\", \"Spring 2025\", \"SUMMER 2025\"])  # inconsistent format\n",
    "\n",
    "# Dirty assignments data\n",
    "for assignment in assignments:\n",
    "    if random.random() < 0.05:\n",
    "        assignment[\"Title\"] = assignment[\"Title\"].replace(\".\", \"\")  # remove punctuation\n",
    "    if random.random() < 0.03:\n",
    "        assignment[\"DueDate\"] = None  # missing due date\n",
    "\n",
    "# Dirty enrollments data\n",
    "for enrollment in enrollments:\n",
    "    if random.random() < 0.03:\n",
    "        enrollment[\"CourseID\"] = enrollment[\"CourseID\"].lower()  # lowercased ID\n",
    "\n",
    "# Dirty submissions data\n",
    "for submission in submissions:\n",
    "    if random.random() < 0.05:\n",
    "        submission[\"Grade\"] = None  # Missing grade\n",
    "    if random.random() < 0.03:\n",
    "        submission[\"SubmissionDate\"] = submission[\"SubmissionDate\"] + \" \"  # Trailing space\n",
    "\n",
    "# Add few duplicates\n",
    "def add_duplicates(data, percent=0.05):\n",
    "    num_dupes = int(len(data) * percent)\n",
    "    duplicates = random.choices(data, k=num_dupes)\n",
    "    return data + duplicates\n",
    "\n",
    "# Add duplicates (approx 5% each)\n",
    "students = add_duplicates(students, percent=0.05)\n",
    "courses = add_duplicates(courses, percent=0.05)\n",
    "assignments = add_duplicates(assignments, percent=0.05)\n",
    "enrollments = add_duplicates(enrollments, percent=0.05)\n",
    "submissions = add_duplicates(submissions, percent=0.05)\n"
   ]
  },
  {
   "cell_type": "code",
   "execution_count": 42,
   "id": "b0bd3c2c-bc75-4736-9a5a-a1726ea3877e",
   "metadata": {},
   "outputs": [],
   "source": [
    "# Save all as CSVs\n",
    "\n",
    "pd.DataFrame(students).to_csv(\"students.csv\", index=False, quoting=csv.QUOTE_NONE, escapechar='\\\\')\n",
    "pd.DataFrame(courses).to_csv(\"courses.csv\", index=False, quoting=csv.QUOTE_NONE, escapechar='\\\\')\n",
    "pd.DataFrame(assignments).to_csv(\"assignments.csv\", index=False, quoting=csv.QUOTE_NONE, escapechar='\\\\')\n",
    "pd.DataFrame(submissions).to_csv(\"submissions.csv\", index=False, quoting=csv.QUOTE_NONE, escapechar='\\\\')\n",
    "pd.DataFrame(enrollments).to_csv(\"enrollments.csv\", index=False, quoting=csv.QUOTE_NONE, escapechar='\\\\')\n"
   ]
  }
 ],
 "metadata": {
  "kernelspec": {
   "display_name": "Python 3 (ipykernel)",
   "language": "python",
   "name": "python3"
  },
  "language_info": {
   "codemirror_mode": {
    "name": "ipython",
    "version": 3
   },
   "file_extension": ".py",
   "mimetype": "text/x-python",
   "name": "python",
   "nbconvert_exporter": "python",
   "pygments_lexer": "ipython3",
   "version": "3.13.3"
  }
 },
 "nbformat": 4,
 "nbformat_minor": 5
}
